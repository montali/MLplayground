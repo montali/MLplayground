{
 "cells": [
  {
   "cell_type": "code",
   "execution_count": 1,
   "metadata": {},
   "outputs": [
    {
     "data": {
      "text/plain": [
       "dict_keys(['data', 'target', 'target_names', 'DESCR', 'feature_names'])"
      ]
     },
     "execution_count": 1,
     "metadata": {},
     "output_type": "execute_result"
    }
   ],
   "source": [
    "from sklearn.datasets import load_iris, load_wine\n",
    "import pandas as pd\n",
    "import matplotlib.pyplot as plt\n",
    "import numpy as np\n",
    "wine = load_wine()\n",
    "wine.keys()"
   ]
  },
  {
   "cell_type": "code",
   "execution_count": 2,
   "metadata": {},
   "outputs": [
    {
     "data": {
      "text/plain": [
       "array(['class_0', 'class_1', 'class_2'], dtype='<U7')"
      ]
     },
     "execution_count": 2,
     "metadata": {},
     "output_type": "execute_result"
    }
   ],
   "source": [
    "# analisi delle classi\n",
    "wine['target_names']"
   ]
  },
  {
   "cell_type": "code",
   "execution_count": 3,
   "metadata": {},
   "outputs": [
    {
     "data": {
      "text/plain": [
       "['alcohol',\n",
       " 'malic_acid',\n",
       " 'ash',\n",
       " 'alcalinity_of_ash',\n",
       " 'magnesium',\n",
       " 'total_phenols',\n",
       " 'flavanoids',\n",
       " 'nonflavanoid_phenols',\n",
       " 'proanthocyanins',\n",
       " 'color_intensity',\n",
       " 'hue',\n",
       " 'od280/od315_of_diluted_wines',\n",
       " 'proline']"
      ]
     },
     "execution_count": 3,
     "metadata": {},
     "output_type": "execute_result"
    }
   ],
   "source": [
    "# features (caratteristiche o dimensioni)\n",
    "wine['feature_names']"
   ]
  },
  {
   "cell_type": "code",
   "execution_count": 4,
   "metadata": {},
   "outputs": [
    {
     "data": {
      "text/plain": [
       "['.. _wine_dataset:',\n",
       " '',\n",
       " 'Wine recognition dataset',\n",
       " '------------------------',\n",
       " '',\n",
       " '**Data Set Characteristics:**',\n",
       " '',\n",
       " '    :Number of Instances: 178 (50 in each of three classes)',\n",
       " '    :Number of Attributes: 13 numeric, predictive attributes and the class',\n",
       " '    :Attribute Information:',\n",
       " ' \\t\\t- Alcohol',\n",
       " ' \\t\\t- Malic acid',\n",
       " ' \\t\\t- Ash',\n",
       " '\\t\\t- Alcalinity of ash  ',\n",
       " ' \\t\\t- Magnesium',\n",
       " '\\t\\t- Total phenols',\n",
       " ' \\t\\t- Flavanoids',\n",
       " ' \\t\\t- Nonflavanoid phenols',\n",
       " ' \\t\\t- Proanthocyanins',\n",
       " '\\t\\t- Color intensity',\n",
       " ' \\t\\t- Hue',\n",
       " ' \\t\\t- OD280/OD315 of diluted wines',\n",
       " ' \\t\\t- Proline',\n",
       " '',\n",
       " '    - class:',\n",
       " '            - class_0',\n",
       " '            - class_1',\n",
       " '            - class_2',\n",
       " '\\t\\t',\n",
       " '    :Summary Statistics:',\n",
       " '    ',\n",
       " '    ============================= ==== ===== ======= =====',\n",
       " '                                   Min   Max   Mean     SD',\n",
       " '    ============================= ==== ===== ======= =====',\n",
       " '    Alcohol:                      11.0  14.8    13.0   0.8',\n",
       " '    Malic Acid:                   0.74  5.80    2.34  1.12',\n",
       " '    Ash:                          1.36  3.23    2.36  0.27',\n",
       " '    Alcalinity of Ash:            10.6  30.0    19.5   3.3',\n",
       " '    Magnesium:                    70.0 162.0    99.7  14.3',\n",
       " '    Total Phenols:                0.98  3.88    2.29  0.63',\n",
       " '    Flavanoids:                   0.34  5.08    2.03  1.00',\n",
       " '    Nonflavanoid Phenols:         0.13  0.66    0.36  0.12',\n",
       " '    Proanthocyanins:              0.41  3.58    1.59  0.57',\n",
       " '    Colour Intensity:              1.3  13.0     5.1   2.3',\n",
       " '    Hue:                          0.48  1.71    0.96  0.23',\n",
       " '    OD280/OD315 of diluted wines: 1.27  4.00    2.61  0.71',\n",
       " '    Proline:                       278  1680     746   315',\n",
       " '    ============================= ==== ===== ======= =====',\n",
       " '',\n",
       " '    :Missing Attribute Values: None',\n",
       " '    :Class Distribution: class_0 (59), class_1 (71), class_2 (48)',\n",
       " '    :Creator: R.A. Fisher',\n",
       " '    :Donor: Michael Marshall (MARSHALL%PLU@io.arc.nasa.gov)',\n",
       " '    :Date: July, 1988',\n",
       " '',\n",
       " 'This is a copy of UCI ML Wine recognition datasets.',\n",
       " 'https://archive.ics.uci.edu/ml/machine-learning-databases/wine/wine.data',\n",
       " '',\n",
       " 'The data is the results of a chemical analysis of wines grown in the same',\n",
       " 'region in Italy by three different cultivators. There are thirteen different',\n",
       " 'measurements taken for different constituents found in the three types of',\n",
       " 'wine.',\n",
       " '',\n",
       " 'Original Owners: ',\n",
       " '',\n",
       " 'Forina, M. et al, PARVUS - ',\n",
       " 'An Extendible Package for Data Exploration, Classification and Correlation. ',\n",
       " 'Institute of Pharmaceutical and Food Analysis and Technologies,',\n",
       " 'Via Brigata Salerno, 16147 Genoa, Italy.',\n",
       " '',\n",
       " 'Citation:',\n",
       " '',\n",
       " 'Lichman, M. (2013). UCI Machine Learning Repository',\n",
       " '[https://archive.ics.uci.edu/ml]. Irvine, CA: University of California,',\n",
       " 'School of Information and Computer Science. ',\n",
       " '',\n",
       " '.. topic:: References',\n",
       " '',\n",
       " '  (1) S. Aeberhard, D. Coomans and O. de Vel, ',\n",
       " '  Comparison of Classifiers in High Dimensional Settings, ',\n",
       " '  Tech. Rep. no. 92-02, (1992), Dept. of Computer Science and Dept. of  ',\n",
       " '  Mathematics and Statistics, James Cook University of North Queensland. ',\n",
       " '  (Also submitted to Technometrics). ',\n",
       " '',\n",
       " '  The data was used with many others for comparing various ',\n",
       " '  classifiers. The classes are separable, though only RDA ',\n",
       " '  has achieved 100% correct classification. ',\n",
       " '  (RDA : 100%, QDA 99.4%, LDA 98.9%, 1NN 96.1% (z-transformed data)) ',\n",
       " '  (All results using the leave-one-out technique) ',\n",
       " '',\n",
       " '  (2) S. Aeberhard, D. Coomans and O. de Vel, ',\n",
       " '  \"THE CLASSIFICATION PERFORMANCE OF RDA\" ',\n",
       " '  Tech. Rep. no. 92-01, (1992), Dept. of Computer Science and Dept. of ',\n",
       " '  Mathematics and Statistics, James Cook University of North Queensland. ',\n",
       " '  (Also submitted to Journal of Chemometrics).',\n",
       " '']"
      ]
     },
     "execution_count": 4,
     "metadata": {},
     "output_type": "execute_result"
    }
   ],
   "source": [
    "wine['DESCR'].split(\"\\n\")"
   ]
  },
  {
   "cell_type": "code",
   "execution_count": 5,
   "metadata": {},
   "outputs": [
    {
     "name": "stdout",
     "output_type": "stream",
     "text": [
      "{'data': array([[1.423e+01, 1.710e+00, 2.430e+00, ..., 1.040e+00, 3.920e+00,\n",
      "        1.065e+03],\n",
      "       [1.320e+01, 1.780e+00, 2.140e+00, ..., 1.050e+00, 3.400e+00,\n",
      "        1.050e+03],\n",
      "       [1.316e+01, 2.360e+00, 2.670e+00, ..., 1.030e+00, 3.170e+00,\n",
      "        1.185e+03],\n",
      "       ...,\n",
      "       [1.327e+01, 4.280e+00, 2.260e+00, ..., 5.900e-01, 1.560e+00,\n",
      "        8.350e+02],\n",
      "       [1.317e+01, 2.590e+00, 2.370e+00, ..., 6.000e-01, 1.620e+00,\n",
      "        8.400e+02],\n",
      "       [1.413e+01, 4.100e+00, 2.740e+00, ..., 6.100e-01, 1.600e+00,\n",
      "        5.600e+02]]), 'target': array([0, 0, 0, 0, 0, 0, 0, 0, 0, 0, 0, 0, 0, 0, 0, 0, 0, 0, 0, 0, 0, 0,\n",
      "       0, 0, 0, 0, 0, 0, 0, 0, 0, 0, 0, 0, 0, 0, 0, 0, 0, 0, 0, 0, 0, 0,\n",
      "       0, 0, 0, 0, 0, 0, 0, 0, 0, 0, 0, 0, 0, 0, 0, 1, 1, 1, 1, 1, 1, 1,\n",
      "       1, 1, 1, 1, 1, 1, 1, 1, 1, 1, 1, 1, 1, 1, 1, 1, 1, 1, 1, 1, 1, 1,\n",
      "       1, 1, 1, 1, 1, 1, 1, 1, 1, 1, 1, 1, 1, 1, 1, 1, 1, 1, 1, 1, 1, 1,\n",
      "       1, 1, 1, 1, 1, 1, 1, 1, 1, 1, 1, 1, 1, 1, 1, 1, 1, 1, 1, 1, 2, 2,\n",
      "       2, 2, 2, 2, 2, 2, 2, 2, 2, 2, 2, 2, 2, 2, 2, 2, 2, 2, 2, 2, 2, 2,\n",
      "       2, 2, 2, 2, 2, 2, 2, 2, 2, 2, 2, 2, 2, 2, 2, 2, 2, 2, 2, 2, 2, 2,\n",
      "       2, 2]), 'target_names': array(['class_0', 'class_1', 'class_2'], dtype='<U7'), 'DESCR': '.. _wine_dataset:\\n\\nWine recognition dataset\\n------------------------\\n\\n**Data Set Characteristics:**\\n\\n    :Number of Instances: 178 (50 in each of three classes)\\n    :Number of Attributes: 13 numeric, predictive attributes and the class\\n    :Attribute Information:\\n \\t\\t- Alcohol\\n \\t\\t- Malic acid\\n \\t\\t- Ash\\n\\t\\t- Alcalinity of ash  \\n \\t\\t- Magnesium\\n\\t\\t- Total phenols\\n \\t\\t- Flavanoids\\n \\t\\t- Nonflavanoid phenols\\n \\t\\t- Proanthocyanins\\n\\t\\t- Color intensity\\n \\t\\t- Hue\\n \\t\\t- OD280/OD315 of diluted wines\\n \\t\\t- Proline\\n\\n    - class:\\n            - class_0\\n            - class_1\\n            - class_2\\n\\t\\t\\n    :Summary Statistics:\\n    \\n    ============================= ==== ===== ======= =====\\n                                   Min   Max   Mean     SD\\n    ============================= ==== ===== ======= =====\\n    Alcohol:                      11.0  14.8    13.0   0.8\\n    Malic Acid:                   0.74  5.80    2.34  1.12\\n    Ash:                          1.36  3.23    2.36  0.27\\n    Alcalinity of Ash:            10.6  30.0    19.5   3.3\\n    Magnesium:                    70.0 162.0    99.7  14.3\\n    Total Phenols:                0.98  3.88    2.29  0.63\\n    Flavanoids:                   0.34  5.08    2.03  1.00\\n    Nonflavanoid Phenols:         0.13  0.66    0.36  0.12\\n    Proanthocyanins:              0.41  3.58    1.59  0.57\\n    Colour Intensity:              1.3  13.0     5.1   2.3\\n    Hue:                          0.48  1.71    0.96  0.23\\n    OD280/OD315 of diluted wines: 1.27  4.00    2.61  0.71\\n    Proline:                       278  1680     746   315\\n    ============================= ==== ===== ======= =====\\n\\n    :Missing Attribute Values: None\\n    :Class Distribution: class_0 (59), class_1 (71), class_2 (48)\\n    :Creator: R.A. Fisher\\n    :Donor: Michael Marshall (MARSHALL%PLU@io.arc.nasa.gov)\\n    :Date: July, 1988\\n\\nThis is a copy of UCI ML Wine recognition datasets.\\nhttps://archive.ics.uci.edu/ml/machine-learning-databases/wine/wine.data\\n\\nThe data is the results of a chemical analysis of wines grown in the same\\nregion in Italy by three different cultivators. There are thirteen different\\nmeasurements taken for different constituents found in the three types of\\nwine.\\n\\nOriginal Owners: \\n\\nForina, M. et al, PARVUS - \\nAn Extendible Package for Data Exploration, Classification and Correlation. \\nInstitute of Pharmaceutical and Food Analysis and Technologies,\\nVia Brigata Salerno, 16147 Genoa, Italy.\\n\\nCitation:\\n\\nLichman, M. (2013). UCI Machine Learning Repository\\n[https://archive.ics.uci.edu/ml]. Irvine, CA: University of California,\\nSchool of Information and Computer Science. \\n\\n.. topic:: References\\n\\n  (1) S. Aeberhard, D. Coomans and O. de Vel, \\n  Comparison of Classifiers in High Dimensional Settings, \\n  Tech. Rep. no. 92-02, (1992), Dept. of Computer Science and Dept. of  \\n  Mathematics and Statistics, James Cook University of North Queensland. \\n  (Also submitted to Technometrics). \\n\\n  The data was used with many others for comparing various \\n  classifiers. The classes are separable, though only RDA \\n  has achieved 100% correct classification. \\n  (RDA : 100%, QDA 99.4%, LDA 98.9%, 1NN 96.1% (z-transformed data)) \\n  (All results using the leave-one-out technique) \\n\\n  (2) S. Aeberhard, D. Coomans and O. de Vel, \\n  \"THE CLASSIFICATION PERFORMANCE OF RDA\" \\n  Tech. Rep. no. 92-01, (1992), Dept. of Computer Science and Dept. of \\n  Mathematics and Statistics, James Cook University of North Queensland. \\n  (Also submitted to Journal of Chemometrics).\\n', 'feature_names': ['alcohol', 'malic_acid', 'ash', 'alcalinity_of_ash', 'magnesium', 'total_phenols', 'flavanoids', 'nonflavanoid_phenols', 'proanthocyanins', 'color_intensity', 'hue', 'od280/od315_of_diluted_wines', 'proline']}\n"
     ]
    }
   ],
   "source": [
    "print(wine)"
   ]
  },
  {
   "cell_type": "code",
   "execution_count": 6,
   "metadata": {},
   "outputs": [],
   "source": [
    "X = wine.data[:, :2]  # we only take the first two features.\n",
    "y = wine.target"
   ]
  },
  {
   "cell_type": "code",
   "execution_count": 7,
   "metadata": {},
   "outputs": [
    {
     "data": {
      "text/plain": [
       "array([[14.23,  1.71],\n",
       "       [13.2 ,  1.78],\n",
       "       [13.16,  2.36],\n",
       "       [14.37,  1.95],\n",
       "       [13.24,  2.59],\n",
       "       [14.2 ,  1.76],\n",
       "       [14.39,  1.87],\n",
       "       [14.06,  2.15],\n",
       "       [14.83,  1.64],\n",
       "       [13.86,  1.35],\n",
       "       [14.1 ,  2.16],\n",
       "       [14.12,  1.48],\n",
       "       [13.75,  1.73],\n",
       "       [14.75,  1.73],\n",
       "       [14.38,  1.87],\n",
       "       [13.63,  1.81],\n",
       "       [14.3 ,  1.92],\n",
       "       [13.83,  1.57],\n",
       "       [14.19,  1.59],\n",
       "       [13.64,  3.1 ],\n",
       "       [14.06,  1.63],\n",
       "       [12.93,  3.8 ],\n",
       "       [13.71,  1.86],\n",
       "       [12.85,  1.6 ],\n",
       "       [13.5 ,  1.81],\n",
       "       [13.05,  2.05],\n",
       "       [13.39,  1.77],\n",
       "       [13.3 ,  1.72],\n",
       "       [13.87,  1.9 ],\n",
       "       [14.02,  1.68],\n",
       "       [13.73,  1.5 ],\n",
       "       [13.58,  1.66],\n",
       "       [13.68,  1.83],\n",
       "       [13.76,  1.53],\n",
       "       [13.51,  1.8 ],\n",
       "       [13.48,  1.81],\n",
       "       [13.28,  1.64],\n",
       "       [13.05,  1.65],\n",
       "       [13.07,  1.5 ],\n",
       "       [14.22,  3.99],\n",
       "       [13.56,  1.71],\n",
       "       [13.41,  3.84],\n",
       "       [13.88,  1.89],\n",
       "       [13.24,  3.98],\n",
       "       [13.05,  1.77],\n",
       "       [14.21,  4.04],\n",
       "       [14.38,  3.59],\n",
       "       [13.9 ,  1.68],\n",
       "       [14.1 ,  2.02],\n",
       "       [13.94,  1.73],\n",
       "       [13.05,  1.73],\n",
       "       [13.83,  1.65],\n",
       "       [13.82,  1.75],\n",
       "       [13.77,  1.9 ],\n",
       "       [13.74,  1.67],\n",
       "       [13.56,  1.73],\n",
       "       [14.22,  1.7 ],\n",
       "       [13.29,  1.97],\n",
       "       [13.72,  1.43],\n",
       "       [12.37,  0.94],\n",
       "       [12.33,  1.1 ],\n",
       "       [12.64,  1.36],\n",
       "       [13.67,  1.25],\n",
       "       [12.37,  1.13],\n",
       "       [12.17,  1.45],\n",
       "       [12.37,  1.21],\n",
       "       [13.11,  1.01],\n",
       "       [12.37,  1.17],\n",
       "       [13.34,  0.94],\n",
       "       [12.21,  1.19],\n",
       "       [12.29,  1.61],\n",
       "       [13.86,  1.51],\n",
       "       [13.49,  1.66],\n",
       "       [12.99,  1.67],\n",
       "       [11.96,  1.09],\n",
       "       [11.66,  1.88],\n",
       "       [13.03,  0.9 ],\n",
       "       [11.84,  2.89],\n",
       "       [12.33,  0.99],\n",
       "       [12.7 ,  3.87],\n",
       "       [12.  ,  0.92],\n",
       "       [12.72,  1.81],\n",
       "       [12.08,  1.13],\n",
       "       [13.05,  3.86],\n",
       "       [11.84,  0.89],\n",
       "       [12.67,  0.98],\n",
       "       [12.16,  1.61],\n",
       "       [11.65,  1.67],\n",
       "       [11.64,  2.06],\n",
       "       [12.08,  1.33],\n",
       "       [12.08,  1.83],\n",
       "       [12.  ,  1.51],\n",
       "       [12.69,  1.53],\n",
       "       [12.29,  2.83],\n",
       "       [11.62,  1.99],\n",
       "       [12.47,  1.52],\n",
       "       [11.81,  2.12],\n",
       "       [12.29,  1.41],\n",
       "       [12.37,  1.07],\n",
       "       [12.29,  3.17],\n",
       "       [12.08,  2.08],\n",
       "       [12.6 ,  1.34],\n",
       "       [12.34,  2.45],\n",
       "       [11.82,  1.72],\n",
       "       [12.51,  1.73],\n",
       "       [12.42,  2.55],\n",
       "       [12.25,  1.73],\n",
       "       [12.72,  1.75],\n",
       "       [12.22,  1.29],\n",
       "       [11.61,  1.35],\n",
       "       [11.46,  3.74],\n",
       "       [12.52,  2.43],\n",
       "       [11.76,  2.68],\n",
       "       [11.41,  0.74],\n",
       "       [12.08,  1.39],\n",
       "       [11.03,  1.51],\n",
       "       [11.82,  1.47],\n",
       "       [12.42,  1.61],\n",
       "       [12.77,  3.43],\n",
       "       [12.  ,  3.43],\n",
       "       [11.45,  2.4 ],\n",
       "       [11.56,  2.05],\n",
       "       [12.42,  4.43],\n",
       "       [13.05,  5.8 ],\n",
       "       [11.87,  4.31],\n",
       "       [12.07,  2.16],\n",
       "       [12.43,  1.53],\n",
       "       [11.79,  2.13],\n",
       "       [12.37,  1.63],\n",
       "       [12.04,  4.3 ],\n",
       "       [12.86,  1.35],\n",
       "       [12.88,  2.99],\n",
       "       [12.81,  2.31],\n",
       "       [12.7 ,  3.55],\n",
       "       [12.51,  1.24],\n",
       "       [12.6 ,  2.46],\n",
       "       [12.25,  4.72],\n",
       "       [12.53,  5.51],\n",
       "       [13.49,  3.59],\n",
       "       [12.84,  2.96],\n",
       "       [12.93,  2.81],\n",
       "       [13.36,  2.56],\n",
       "       [13.52,  3.17],\n",
       "       [13.62,  4.95],\n",
       "       [12.25,  3.88],\n",
       "       [13.16,  3.57],\n",
       "       [13.88,  5.04],\n",
       "       [12.87,  4.61],\n",
       "       [13.32,  3.24],\n",
       "       [13.08,  3.9 ],\n",
       "       [13.5 ,  3.12],\n",
       "       [12.79,  2.67],\n",
       "       [13.11,  1.9 ],\n",
       "       [13.23,  3.3 ],\n",
       "       [12.58,  1.29],\n",
       "       [13.17,  5.19],\n",
       "       [13.84,  4.12],\n",
       "       [12.45,  3.03],\n",
       "       [14.34,  1.68],\n",
       "       [13.48,  1.67],\n",
       "       [12.36,  3.83],\n",
       "       [13.69,  3.26],\n",
       "       [12.85,  3.27],\n",
       "       [12.96,  3.45],\n",
       "       [13.78,  2.76],\n",
       "       [13.73,  4.36],\n",
       "       [13.45,  3.7 ],\n",
       "       [12.82,  3.37],\n",
       "       [13.58,  2.58],\n",
       "       [13.4 ,  4.6 ],\n",
       "       [12.2 ,  3.03],\n",
       "       [12.77,  2.39],\n",
       "       [14.16,  2.51],\n",
       "       [13.71,  5.65],\n",
       "       [13.4 ,  3.91],\n",
       "       [13.27,  4.28],\n",
       "       [13.17,  2.59],\n",
       "       [14.13,  4.1 ]])"
      ]
     },
     "execution_count": 7,
     "metadata": {},
     "output_type": "execute_result"
    }
   ],
   "source": [
    "X"
   ]
  },
  {
   "cell_type": "code",
   "execution_count": 8,
   "metadata": {},
   "outputs": [
    {
     "data": {
      "text/plain": [
       "array([0, 0, 0, 0, 0, 0, 0, 0, 0, 0, 0, 0, 0, 0, 0, 0, 0, 0, 0, 0, 0, 0,\n",
       "       0, 0, 0, 0, 0, 0, 0, 0, 0, 0, 0, 0, 0, 0, 0, 0, 0, 0, 0, 0, 0, 0,\n",
       "       0, 0, 0, 0, 0, 0, 0, 0, 0, 0, 0, 0, 0, 0, 0, 1, 1, 1, 1, 1, 1, 1,\n",
       "       1, 1, 1, 1, 1, 1, 1, 1, 1, 1, 1, 1, 1, 1, 1, 1, 1, 1, 1, 1, 1, 1,\n",
       "       1, 1, 1, 1, 1, 1, 1, 1, 1, 1, 1, 1, 1, 1, 1, 1, 1, 1, 1, 1, 1, 1,\n",
       "       1, 1, 1, 1, 1, 1, 1, 1, 1, 1, 1, 1, 1, 1, 1, 1, 1, 1, 1, 1, 2, 2,\n",
       "       2, 2, 2, 2, 2, 2, 2, 2, 2, 2, 2, 2, 2, 2, 2, 2, 2, 2, 2, 2, 2, 2,\n",
       "       2, 2, 2, 2, 2, 2, 2, 2, 2, 2, 2, 2, 2, 2, 2, 2, 2, 2, 2, 2, 2, 2,\n",
       "       2, 2])"
      ]
     },
     "execution_count": 8,
     "metadata": {},
     "output_type": "execute_result"
    }
   ],
   "source": [
    "y"
   ]
  },
  {
   "cell_type": "code",
   "execution_count": 9,
   "metadata": {},
   "outputs": [
    {
     "data": {
      "image/png": "[encoded data removed]",
      "text/plain": [
       "<Figure size 576x432 with 1 Axes>"
      ]
     },
     "metadata": {
      "needs_background": "light"
     },
     "output_type": "display_data"
    }
   ],
   "source": [
    "plt.figure(2, figsize=(8, 6))\n",
    "\n",
    "# Plot the training points\n",
    "plt.rc('grid', linestyle=\"-\", color='black')\n",
    "plt.scatter(X[:, 0], X[:, 1], c=y, cmap=plt.cm.Set1, edgecolor='k')\n",
    "plt.xlabel('Sepal length')\n",
    "plt.ylabel('Sepal width')\n",
    "\n",
    "x_min = 10\n",
    "y_min = 0\n",
    "x_max = 15\n",
    "y_max = 6\n",
    "plt.xlim(x_min, x_max)\n",
    "plt.ylim(y_min, y_max)\n",
    "plt.xlabel('Alcohol')\n",
    "plt.ylabel('Malic Acid')\n",
    "plt.grid(True)\n",
    "plt.show()"
   ]
  },
  {
   "cell_type": "code",
   "execution_count": 10,
   "metadata": {},
   "outputs": [
    {
     "data": {
      "text/plain": [
       "[array([[14.23,  1.71],\n",
       "        [13.2 ,  1.78],\n",
       "        [13.16,  2.36],\n",
       "        [14.37,  1.95],\n",
       "        [13.24,  2.59]]), array([[13.05,  1.73],\n",
       "        [13.83,  1.65],\n",
       "        [13.82,  1.75],\n",
       "        [13.77,  1.9 ],\n",
       "        [13.74,  1.67]]), array([[13.71,  5.65],\n",
       "        [13.4 ,  3.91],\n",
       "        [13.27,  4.28],\n",
       "        [13.17,  2.59],\n",
       "        [14.13,  4.1 ]])]"
      ]
     },
     "execution_count": 10,
     "metadata": {},
     "output_type": "execute_result"
    }
   ],
   "source": [
    "[X[0:5], X[50:55], X[-5:]]"
   ]
  },
  {
   "cell_type": "code",
   "execution_count": 11,
   "metadata": {},
   "outputs": [
    {
     "data": {
      "text/plain": [
       "[array([0, 0, 0, 0, 0]), array([0, 0, 0, 0, 0]), array([2, 2, 2, 2, 2])]"
      ]
     },
     "execution_count": 11,
     "metadata": {},
     "output_type": "execute_result"
    }
   ],
   "source": [
    "[y[0:5], y[50:55], y[-5:]]"
   ]
  },
  {
   "cell_type": "code",
   "execution_count": 12,
   "metadata": {},
   "outputs": [],
   "source": [
    "from sklearn import tree\n",
    "clf = tree.DecisionTreeClassifier()\n",
    "clf = clf.fit(X, y)"
   ]
  },
  {
   "cell_type": "code",
   "execution_count": 13,
   "metadata": {},
   "outputs": [
    {
     "data": {
      "image/png": "[encoded data removed]",
      "text/plain": [
       "<Figure size 432x288 with 1 Axes>"
      ]
     },
     "metadata": {
      "needs_background": "light"
     },
     "output_type": "display_data"
    }
   ],
   "source": [
    "tree.plot_tree(clf.fit(X,y)) \n",
    "fig = clf.fit(X,y)\n",
    "tree.plot_tree(fig)\n",
    "plt.rcParams[\"figure.figsize\"] = [30,30]\n",
    "plt.show()\n",
    "#tree.plot_tree(clf.fit(X,y)) "
   ]
  },
  {
   "cell_type": "code",
   "execution_count": 14,
   "metadata": {},
   "outputs": [],
   "source": [
    "from sklearn.tree.export import export_text"
   ]
  },
  {
   "cell_type": "code",
   "execution_count": 15,
   "metadata": {},
   "outputs": [
    {
     "name": "stdout",
     "output_type": "stream",
     "text": [
      "|--- alcohol <= 12.78\n",
      "|   |--- malic_acid <= 2.96\n",
      "|   |   |--- alcohol <= 12.49\n",
      "|   |   |   |--- class: 1\n",
      "|   |   |--- alcohol >  12.49\n",
      "|   |   |   |--- malic_acid <= 2.45\n",
      "|   |   |   |   |--- malic_acid <= 1.31\n",
      "|   |   |   |   |   |--- alcohol <= 12.62\n",
      "|   |   |   |   |   |   |--- class: 2\n",
      "|   |   |   |   |   |--- alcohol >  12.62\n",
      "|   |   |   |   |   |   |--- class: 1\n",
      "|   |   |   |   |--- malic_acid >  1.31\n",
      "|   |   |   |   |   |--- alcohol <= 12.75\n",
      "|   |   |   |   |   |   |--- class: 1\n",
      "|   |   |   |   |   |--- alcohol >  12.75\n",
      "|   |   |   |   |   |   |--- class: 2\n",
      "|   |   |   |--- malic_acid >  2.45\n",
      "|   |   |   |   |--- class: 2\n",
      "|   |--- malic_acid >  2.96\n",
      "|   |   |--- alcohol <= 12.12\n",
      "|   |   |   |--- class: 1\n",
      "|   |   |--- alcohol >  12.12\n",
      "|   |   |   |--- alcohol <= 12.27\n",
      "|   |   |   |   |--- class: 2\n",
      "|   |   |   |--- alcohol >  12.27\n",
      "|   |   |   |   |--- alcohol <= 12.32\n",
      "|   |   |   |   |   |--- class: 1\n",
      "|   |   |   |   |--- alcohol >  12.32\n",
      "|   |   |   |   |   |--- alcohol <= 12.74\n",
      "|   |   |   |   |   |   |--- malic_acid <= 3.85\n",
      "|   |   |   |   |   |   |   |--- class: 2\n",
      "|   |   |   |   |   |   |--- malic_acid >  3.85\n",
      "|   |   |   |   |   |   |   |--- malic_acid <= 4.97\n",
      "|   |   |   |   |   |   |   |   |--- class: 1\n",
      "|   |   |   |   |   |   |   |--- malic_acid >  4.97\n",
      "|   |   |   |   |   |   |   |   |--- class: 2\n",
      "|   |   |   |   |   |--- alcohol >  12.74\n",
      "|   |   |   |   |   |   |--- class: 1\n",
      "|--- alcohol >  12.78\n",
      "|   |--- malic_acid <= 2.24\n",
      "|   |   |--- malic_acid <= 1.30\n",
      "|   |   |   |--- class: 1\n",
      "|   |   |--- malic_acid >  1.30\n",
      "|   |   |   |--- alcohol <= 13.02\n",
      "|   |   |   |   |--- alcohol <= 12.86\n",
      "|   |   |   |   |   |--- class: 0\n",
      "|   |   |   |   |--- alcohol >  12.86\n",
      "|   |   |   |   |   |--- alcohol <= 12.92\n",
      "|   |   |   |   |   |   |--- class: 2\n",
      "|   |   |   |   |   |--- alcohol >  12.92\n",
      "|   |   |   |   |   |   |--- class: 1\n",
      "|   |   |   |--- alcohol >  13.02\n",
      "|   |   |   |   |--- malic_acid <= 1.69\n",
      "|   |   |   |   |   |--- malic_acid <= 1.65\n",
      "|   |   |   |   |   |   |--- malic_acid <= 1.52\n",
      "|   |   |   |   |   |   |   |--- malic_acid <= 1.50\n",
      "|   |   |   |   |   |   |   |   |--- class: 0\n",
      "|   |   |   |   |   |   |   |--- malic_acid >  1.50\n",
      "|   |   |   |   |   |   |   |   |--- class: 1\n",
      "|   |   |   |   |   |   |--- malic_acid >  1.52\n",
      "|   |   |   |   |   |   |   |--- class: 0\n",
      "|   |   |   |   |   |--- malic_acid >  1.65\n",
      "|   |   |   |   |   |   |--- alcohol <= 13.53\n",
      "|   |   |   |   |   |   |   |--- alcohol <= 13.48\n",
      "|   |   |   |   |   |   |   |   |--- class: 2\n",
      "|   |   |   |   |   |   |   |--- alcohol >  13.48\n",
      "|   |   |   |   |   |   |   |   |--- class: 1\n",
      "|   |   |   |   |   |   |--- alcohol >  13.53\n",
      "|   |   |   |   |   |   |   |--- alcohol <= 14.18\n",
      "|   |   |   |   |   |   |   |   |--- class: 0\n",
      "|   |   |   |   |   |   |   |--- alcohol >  14.18\n",
      "|   |   |   |   |   |   |   |   |--- class: 2\n",
      "|   |   |   |   |--- malic_acid >  1.69\n",
      "|   |   |   |   |   |--- alcohol <= 13.15\n",
      "|   |   |   |   |   |   |--- alcohol <= 13.08\n",
      "|   |   |   |   |   |   |   |--- class: 0\n",
      "|   |   |   |   |   |   |--- alcohol >  13.08\n",
      "|   |   |   |   |   |   |   |--- class: 2\n",
      "|   |   |   |   |   |--- alcohol >  13.15\n",
      "|   |   |   |   |   |   |--- class: 0\n",
      "|   |--- malic_acid >  2.24\n",
      "|   |   |--- alcohol <= 14.18\n",
      "|   |   |   |--- malic_acid <= 5.73\n",
      "|   |   |   |   |--- malic_acid <= 4.04\n",
      "|   |   |   |   |   |--- malic_acid <= 3.75\n",
      "|   |   |   |   |   |   |--- malic_acid <= 3.11\n",
      "|   |   |   |   |   |   |   |--- malic_acid <= 3.04\n",
      "|   |   |   |   |   |   |   |   |--- malic_acid <= 2.43\n",
      "|   |   |   |   |   |   |   |   |   |--- alcohol <= 12.99\n",
      "|   |   |   |   |   |   |   |   |   |   |--- class: 2\n",
      "|   |   |   |   |   |   |   |   |   |--- alcohol >  12.99\n",
      "|   |   |   |   |   |   |   |   |   |   |--- class: 0\n",
      "|   |   |   |   |   |   |   |   |--- malic_acid >  2.43\n",
      "|   |   |   |   |   |   |   |   |   |--- alcohol <= 13.20\n",
      "|   |   |   |   |   |   |   |   |   |   |--- class: 2\n",
      "|   |   |   |   |   |   |   |   |   |--- alcohol >  13.20\n",
      "|   |   |   |   |   |   |   |   |   |   |--- alcohol <= 13.30\n",
      "|   |   |   |   |   |   |   |   |   |   |   |--- class: 0\n",
      "|   |   |   |   |   |   |   |   |   |   |--- alcohol >  13.30\n",
      "|   |   |   |   |   |   |   |   |   |   |   |--- class: 2\n",
      "|   |   |   |   |   |   |   |--- malic_acid >  3.04\n",
      "|   |   |   |   |   |   |   |   |--- class: 0\n",
      "|   |   |   |   |   |   |--- malic_acid >  3.11\n",
      "|   |   |   |   |   |   |   |--- class: 2\n",
      "|   |   |   |   |   |--- malic_acid >  3.75\n",
      "|   |   |   |   |   |   |--- malic_acid <= 3.85\n",
      "|   |   |   |   |   |   |   |--- class: 0\n",
      "|   |   |   |   |   |   |--- malic_acid >  3.85\n",
      "|   |   |   |   |   |   |   |--- alcohol <= 13.07\n",
      "|   |   |   |   |   |   |   |   |--- class: 1\n",
      "|   |   |   |   |   |   |   |--- alcohol >  13.07\n",
      "|   |   |   |   |   |   |   |   |--- malic_acid <= 3.95\n",
      "|   |   |   |   |   |   |   |   |   |--- class: 2\n",
      "|   |   |   |   |   |   |   |   |--- malic_acid >  3.95\n",
      "|   |   |   |   |   |   |   |   |   |--- class: 0\n",
      "|   |   |   |   |--- malic_acid >  4.04\n",
      "|   |   |   |   |   |--- class: 2\n",
      "|   |   |   |--- malic_acid >  5.73\n",
      "|   |   |   |   |--- class: 1\n",
      "|   |   |--- alcohol >  14.18\n",
      "|   |   |   |--- class: 0\n",
      "\n"
     ]
    }
   ],
   "source": [
    "tree_rules = export_text(clf, feature_names=['alcohol', 'malic_acid'])\n",
    "for elem in tree_rules.split(\"\\n\"):\n",
    "    print(elem)"
   ]
  },
  {
   "cell_type": "code",
   "execution_count": 16,
   "metadata": {},
   "outputs": [
    {
     "data": {
      "text/plain": [
       "array([1])"
      ]
     },
     "execution_count": 16,
     "metadata": {},
     "output_type": "execute_result"
    }
   ],
   "source": [
    "clf.predict([[13, 2]])"
   ]
  },
  {
   "cell_type": "code",
   "execution_count": 17,
   "metadata": {},
   "outputs": [
    {
     "data": {
      "text/plain": [
       "array([0])"
      ]
     },
     "execution_count": 17,
     "metadata": {},
     "output_type": "execute_result"
    }
   ],
   "source": [
    "clf.predict([[15, 4]])"
   ]
  },
  {
   "cell_type": "code",
   "execution_count": 18,
   "metadata": {},
   "outputs": [
    {
     "data": {
      "text/plain": [
       "array([[0., 0., 1.]])"
      ]
     },
     "execution_count": 18,
     "metadata": {},
     "output_type": "execute_result"
    }
   ],
   "source": [
    "clf.predict_proba([[13, 3]])"
   ]
  },
  {
   "cell_type": "code",
   "execution_count": 19,
   "metadata": {},
   "outputs": [
    {
     "data": {
      "text/plain": [
       "array([[0., 1., 0.]])"
      ]
     },
     "execution_count": 19,
     "metadata": {},
     "output_type": "execute_result"
    }
   ],
   "source": [
    "clf.predict_proba([[10, 6]])"
   ]
  },
  {
   "cell_type": "code",
   "execution_count": 20,
   "metadata": {},
   "outputs": [
    {
     "data": {
      "text/plain": [
       "array([[0., 1., 0.]])"
      ]
     },
     "execution_count": 20,
     "metadata": {},
     "output_type": "execute_result"
    }
   ],
   "source": [
    "clf.predict_proba([[11, 1]])"
   ]
  },
  {
   "cell_type": "code",
   "execution_count": 21,
   "metadata": {},
   "outputs": [
    {
     "data": {
      "text/plain": [
       "array([2])"
      ]
     },
     "execution_count": 21,
     "metadata": {},
     "output_type": "execute_result"
    }
   ],
   "source": [
    "clf.predict([[14, 5]])"
   ]
  },
  {
   "cell_type": "code",
   "execution_count": 22,
   "metadata": {
    "scrolled": true
   },
   "outputs": [
    {
     "data": {
      "text/plain": [
       "SVC(C=1.0, cache_size=200, class_weight=None, coef0=0.0,\n",
       "    decision_function_shape='ovr', degree=3, gamma='auto', kernel='rbf',\n",
       "    max_iter=-1, probability=True, random_state=None, shrinking=True, tol=0.001,\n",
       "    verbose=False)"
      ]
     },
     "execution_count": 22,
     "metadata": {},
     "output_type": "execute_result"
    }
   ],
   "source": [
    "# cambiamo classificatore\n",
    "# Support Vector Machine\n",
    "from sklearn.svm import SVC\n",
    "clf_svm = SVC(gamma='auto', probability=True)\n",
    "clf_svm.fit(X, y) "
   ]
  },
  {
   "cell_type": "code",
   "execution_count": 23,
   "metadata": {},
   "outputs": [
    {
     "data": {
      "text/plain": [
       "array([0])"
      ]
     },
     "execution_count": 23,
     "metadata": {},
     "output_type": "execute_result"
    }
   ],
   "source": [
    "clf_svm.predict([[13, 2]])"
   ]
  },
  {
   "cell_type": "code",
   "execution_count": 24,
   "metadata": {},
   "outputs": [
    {
     "data": {
      "text/plain": [
       "array([[0.54562082, 0.20486969, 0.24950949]])"
      ]
     },
     "execution_count": 24,
     "metadata": {},
     "output_type": "execute_result"
    }
   ],
   "source": [
    "clf_svm.predict_proba([[13, 2]])"
   ]
  },
  {
   "cell_type": "code",
   "execution_count": 25,
   "metadata": {},
   "outputs": [
    {
     "name": "stdout",
     "output_type": "stream",
     "text": [
      "119 119\n",
      "59 59\n"
     ]
    }
   ],
   "source": [
    "from sklearn.model_selection import train_test_split\n",
    "X_train, X_test, y_train, y_test = train_test_split(X, y, test_size=0.33, random_state=42)\n",
    "\n",
    "print(len(X_train), len(y_train))\n",
    "print(len(X_test), len(y_test))"
   ]
  },
  {
   "cell_type": "code",
   "execution_count": 26,
   "metadata": {},
   "outputs": [
    {
     "name": "stdout",
     "output_type": "stream",
     "text": [
      "DecisionTreeClassifier(class_weight=None, criterion='gini', max_depth=None,\n",
      "                       max_features=None, max_leaf_nodes=None,\n",
      "                       min_impurity_decrease=0.0, min_impurity_split=None,\n",
      "                       min_samples_leaf=1, min_samples_split=2,\n",
      "                       min_weight_fraction_leaf=0.0, presort=False,\n",
      "                       random_state=None, splitter='best')\n"
     ]
    }
   ],
   "source": [
    "print(clf.fit(X_train, y_train))"
   ]
  },
  {
   "cell_type": "code",
   "execution_count": 27,
   "metadata": {},
   "outputs": [
    {
     "name": "stdout",
     "output_type": "stream",
     "text": [
      "TRAIN SET 1.0\n",
      "TEST  SET 0.7796610169491526\n"
     ]
    }
   ],
   "source": [
    "print(\"TRAIN SET\", clf.score(X_train, y_train))\n",
    "print(\"TEST  SET\", clf.score(X_test, y_test))"
   ]
  },
  {
   "cell_type": "code",
   "execution_count": 28,
   "metadata": {},
   "outputs": [
    {
     "name": "stdout",
     "output_type": "stream",
     "text": [
      "Errori in training set\n"
     ]
    }
   ],
   "source": [
    "print(\"Errori in training set\")\n",
    "predictions = clf.predict(X_train)\n",
    "for elem, prediction, label in zip(X_train, predictions, y_train):\n",
    "  if prediction != label:\n",
    "    print(elem, 'has been classified as ', prediction, 'and should be ', label) "
   ]
  },
  {
   "cell_type": "code",
   "execution_count": 29,
   "metadata": {},
   "outputs": [
    {
     "name": "stdout",
     "output_type": "stream",
     "text": [
      "Errori in test set\n",
      "[13.64  3.1 ] has been classified as  2 and should be  0\n",
      "[13.73  1.5 ] has been classified as  1 and should be  0\n",
      "[13.41  3.84] has been classified as  2 and should be  0\n",
      "[12.77  3.43] has been classified as  2 and should be  1\n",
      "[12.52  2.43] has been classified as  2 and should be  1\n",
      "[13.86  1.35] has been classified as  2 and should be  0\n",
      "[13.58  1.66] has been classified as  1 and should be  0\n",
      "[14.34  1.68] has been classified as  0 and should be  2\n",
      "[12.53  5.51] has been classified as  1 and should be  2\n",
      "[13.48  1.67] has been classified as  1 and should be  2\n",
      "[13.07  1.5 ] has been classified as  1 and should be  0\n",
      "[13.16  2.36] has been classified as  2 and should be  0\n",
      "[13.23  3.3 ] has been classified as  0 and should be  2\n"
     ]
    }
   ],
   "source": [
    "print(\"Errori in test set\")\n",
    "predictions = clf.predict(X_test)\n",
    "for elem, prediction, label in zip(X_test, predictions, y_test):\n",
    "  if prediction != label:\n",
    "    print(elem, 'has been classified as ', prediction, 'and should be ', label) "
   ]
  },
  {
   "cell_type": "code",
   "execution_count": 30,
   "metadata": {},
   "outputs": [
    {
     "name": "stdout",
     "output_type": "stream",
     "text": [
      "Errori per SVM\n",
      "[13.64  3.1 ] has been classified as  2 and should be  0\n",
      "[14.21  4.04] has been classified as  2 and should be  0\n",
      "[13.41  3.84] has been classified as  2 and should be  0\n",
      "[12.77  3.43] has been classified as  2 and should be  1\n",
      "[14.34  1.68] has been classified as  0 and should be  2\n",
      "[13.48  1.67] has been classified as  0 and should be  2\n",
      "[13.16  2.36] has been classified as  2 and should be  0\n",
      "[12.42  4.43] has been classified as  2 and should be  1\n",
      "[12.58  1.29] has been classified as  1 and should be  2\n"
     ]
    }
   ],
   "source": [
    "print(\"Errori per SVM\")\n",
    "predictions = clf_svm.predict(X_test)\n",
    "for elem, prediction, label in zip(X_test, predictions, y_test):\n",
    "  if prediction != label:\n",
    "    print(elem, 'has been classified as ', prediction, 'and should be ', label) "
   ]
  },
  {
   "cell_type": "code",
   "execution_count": 31,
   "metadata": {},
   "outputs": [
    {
     "name": "stdout",
     "output_type": "stream",
     "text": [
      "CM per Test set\n",
      " [[13  3  4]\n",
      " [ 0 22  2]\n",
      " [ 2  2 11]]\n"
     ]
    }
   ],
   "source": [
    "from sklearn.metrics import confusion_matrix, accuracy_score\n",
    "cm = confusion_matrix(y_test, clf.predict(X_test))\n",
    "print(\"CM per Test set\\n\", cm)"
   ]
  },
  {
   "cell_type": "code",
   "execution_count": 32,
   "metadata": {},
   "outputs": [
    {
     "name": "stdout",
     "output_type": "stream",
     "text": [
      "CM per Test set\n",
      " [[16  0  4]\n",
      " [ 0 22  2]\n",
      " [ 2  1 12]]\n"
     ]
    }
   ],
   "source": [
    "cm = confusion_matrix(y_test, clf_svm.predict(X_test))\n",
    "print(\"CM per Test set\\n\", cm)"
   ]
  },
  {
   "cell_type": "code",
   "execution_count": 33,
   "metadata": {},
   "outputs": [
    {
     "name": "stdout",
     "output_type": "stream",
     "text": [
      "[0.57777778 0.75555556 0.68888889 0.72093023]\n"
     ]
    }
   ],
   "source": [
    "# TREE\n",
    "from sklearn.model_selection import cross_val_score\n",
    "print(cross_val_score(clf, X, y, cv=4))"
   ]
  },
  {
   "cell_type": "code",
   "execution_count": 34,
   "metadata": {},
   "outputs": [
    {
     "name": "stdout",
     "output_type": "stream",
     "text": [
      "[0.71111111 0.84444444 0.77777778 0.79069767]\n"
     ]
    }
   ],
   "source": [
    "#SVM\n",
    "from sklearn.model_selection import cross_val_score\n",
    "print(cross_val_score(clf_svm, X, y, cv=4))"
   ]
  },
  {
   "cell_type": "code",
   "execution_count": 35,
   "metadata": {},
   "outputs": [
    {
     "data": {
      "text/plain": [
       "0.6691214470284237"
      ]
     },
     "execution_count": 35,
     "metadata": {},
     "output_type": "execute_result"
    }
   ],
   "source": [
    "# Media Tree\n",
    "np.average(cross_val_score(clf, X, y, cv=4))"
   ]
  },
  {
   "cell_type": "code",
   "execution_count": 36,
   "metadata": {},
   "outputs": [
    {
     "data": {
      "text/plain": [
       "0.7810077519379846"
      ]
     },
     "execution_count": 36,
     "metadata": {},
     "output_type": "execute_result"
    }
   ],
   "source": [
    "# Media SVM\n",
    "np.average(cross_val_score(clf_svm, X, y, cv=4))"
   ]
  }
 ],
 "metadata": {
  "kernelspec": {
   "display_name": "Python 3",
   "language": "python",
   "name": "python3"
  },
  "language_info": {
   "codemirror_mode": {
    "name": "ipython",
    "version": 3
   },
   "file_extension": ".py",
   "mimetype": "text/x-python",
   "name": "python",
   "nbconvert_exporter": "python",
   "pygments_lexer": "ipython3",
   "version": "3.7.5"
  }
 },
 "nbformat": 4,
 "nbformat_minor": 2
}
